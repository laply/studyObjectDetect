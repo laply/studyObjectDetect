{
 "cells": [
  {
   "cell_type": "markdown",
   "metadata": {},
   "source": [
    "# OverFeat\n",
    "\n",
    "고해상도 이미지로 부터 만들어진 fully connect layer를 1x1 convolutional layer로 변환\n",
    "이미지 인식 \n"
   ]
  },
  {
   "cell_type": "code",
   "execution_count": null,
   "metadata": {},
   "outputs": [],
   "source": [
    "참고\n",
    "\n",
    "[1] https://arclab.tistory.com/226"
   ]
  }
 ],
 "metadata": {},
 "nbformat": 4,
 "nbformat_minor": 4
}